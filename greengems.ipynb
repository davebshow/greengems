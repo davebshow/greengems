{
 "cells": [
  {
   "cell_type": "markdown",
   "metadata": {},
   "source": [
    "# Clash of Clans: How many builders do you *really* need?\n",
    "\n",
    "### (or, how should I spend those green gems?) <img src=\"builder.png\" style=\"float:center;width:100px\" />"
   ]
  },
  {
   "cell_type": "markdown",
   "metadata": {},
   "source": [
    "Hello everyone! I am a mid-level town hall 8 avid clasher with 4 builders. Recently I discovered (like so many other [people](https://www.reddit.com/r/ClashOfClans/comments/2psnf3/strategy_lab_time_longer_than_builder_time_what/))that at my level research, not build time, is the limiting factor for progress. This made me wonder, is it really worth it to save up for the fifth builder? Or should I just spend gems on barracks/collector boosts, finishing research/hero upgrades in a timely fashion, etc. To solve this conundrum I decided to do a bit of simple data analysis using the upgrade time data available on the [Clash of Clans wiki](http://clashofclans.wikia.com/wiki/Clash_of_Clans_Wiki).\n",
    "\n",
    "This next section contains a bit of Python used to prepare the dataset for visualization and analysis. If you aren't interested, just skip down to the [results section](#Results)"
   ]
  },
  {
   "cell_type": "code",
   "execution_count": 1,
   "metadata": {
    "collapsed": true
   },
   "outputs": [],
   "source": [
    "%matplotlib inline\n",
    "import numpy as np\n",
    "import pandas as pd"
   ]
  },
  {
   "cell_type": "code",
   "execution_count": 2,
   "metadata": {
    "collapsed": true
   },
   "outputs": [],
   "source": [
    "building_df = pd.read_csv(\"building_upgrade_data.csv\")\n",
    "building_df = building_df[building_df[\"town_hall\"] != 11]\n",
    "research_df = pd.read_csv(\"research_data.csv\")\n",
    "research_df = research_df[research_df[\"town_hall\"] != 11]"
   ]
  },
  {
   "cell_type": "code",
   "execution_count": 3,
   "metadata": {
    "collapsed": true
   },
   "outputs": [],
   "source": [
    "# CONSTANTS\n",
    "HOURS_PER_DAY = 24.0\n",
    "MIN_PER_DAY = HOURS_PER_DAY * 60\n",
    "SEC_PER_DAY = MIN_PER_DAY * 60\n",
    "UNIT_MAP = {\"seconds\": SEC_PER_DAY, \"minutes\": MIN_PER_DAY,\n",
    "            \"hours\": HOURS_PER_DAY, \"days\": 1.0}"
   ]
  },
  {
   "cell_type": "code",
   "execution_count": 4,
   "metadata": {
    "collapsed": true
   },
   "outputs": [],
   "source": [
    "# These functions parse the possible time strings\n",
    "from functools import reduce\n",
    "\n",
    "def parse_time(t):\n",
    "    return int(t[0]) / UNIT_MAP[t[1]]\n",
    "\n",
    "def chunks(l, n):\n",
    "    for i in range(0, len(l), n):\n",
    "        yield l[i:i + n]\n",
    "\n",
    "def parse_time_string(s):\n",
    "    return reduce(lambda x, y: x + y, map(parse_time, chunks(s.split(' '), 2)))"
   ]
  },
  {
   "cell_type": "code",
   "execution_count": 5,
   "metadata": {
    "collapsed": true
   },
   "outputs": [],
   "source": [
    "building_df[\"build_days\"] = building_df[\"build_time\"].map(parse_time_string)\n",
    "research_df[\"research_days\"] = research_df[\"research_time\"].map(parse_time_string)"
   ]
  },
  {
   "cell_type": "code",
   "execution_count": 6,
   "metadata": {
    "collapsed": true
   },
   "outputs": [],
   "source": [
    "def get_build_time(df):\n",
    "    \"\"\"This calculates total build time per town hall level\"\"\"\n",
    "    build_time = {}\n",
    "    grouped = df.groupby([\"type\"])\n",
    "    for name, group in grouped:\n",
    "        regrouped = group.groupby(\"town_hall\")\n",
    "        prev_quant = group.iloc[0][\"quantity\"]\n",
    "        for rname, rgroup in regrouped:\n",
    "            quant = rgroup[\"quantity\"].iloc[0]\n",
    "            build_days = quant * rgroup[\"build_days\"].sum()\n",
    "            build_time.setdefault(rname, 0)\n",
    "            build_time[rname] += build_days\n",
    "            # This adds time to each town hall level based on new structure acquisition\n",
    "            if quant > prev_quant:\n",
    "                diff = quant - prev_quant\n",
    "                catch_up_days = diff * group[group[\"town_hall\"] < rname][\"build_days\"].sum()\n",
    "                build_time[rname] += catch_up_days\n",
    "                prev_quant = quant\n",
    "    return pd.Series(build_time)"
   ]
  },
  {
   "cell_type": "code",
   "execution_count": 7,
   "metadata": {
    "collapsed": true
   },
   "outputs": [],
   "source": [
    "build_times = get_build_time(building_df)"
   ]
  },
  {
   "cell_type": "code",
   "execution_count": 13,
   "metadata": {
    "collapsed": false
   },
   "outputs": [],
   "source": [
    "# Get research times by town hall, don't forget to add lab upgrade time\n",
    "lab_build_days = building_df.groupby(\"type\").get_group(\"laboratory\")[[\"town_hall\",\"build_days\"]]\n",
    "research_times = research_df.groupby(\"town_hall\")[\"research_days\"].sum()\n",
    "lab_build_days[\"total_time\"] = lab_build_days[\"build_days\"] + research_times.values\n",
    "research_times = lab_build_days.set_index(\"town_hall\")[\"total_time\"]\n",
    "times = pd.concat([research_times, build_times], axis=1)\n",
    "times.columns = [\"research_time\", \"build_time\"]"
   ]
  },
  {
   "cell_type": "code",
   "execution_count": 16,
   "metadata": {
    "collapsed": false
   },
   "outputs": [
    {
     "data": {
      "text/html": [
       "<div>\n",
       "<table border=\"1\" class=\"dataframe\">\n",
       "  <thead>\n",
       "    <tr style=\"text-align: right;\">\n",
       "      <th></th>\n",
       "      <th>research_time</th>\n",
       "      <th>build_time</th>\n",
       "      <th>percent_research_time</th>\n",
       "      <th>percent_build_time</th>\n",
       "    </tr>\n",
       "  </thead>\n",
       "  <tbody>\n",
       "    <tr>\n",
       "      <th>1</th>\n",
       "      <td>0.000000</td>\n",
       "      <td>0.120370</td>\n",
       "      <td>0.000000</td>\n",
       "      <td>0.000046</td>\n",
       "    </tr>\n",
       "    <tr>\n",
       "      <th>2</th>\n",
       "      <td>0.000000</td>\n",
       "      <td>1.012847</td>\n",
       "      <td>0.000000</td>\n",
       "      <td>0.000389</td>\n",
       "    </tr>\n",
       "    <tr>\n",
       "      <th>3</th>\n",
       "      <td>1.270833</td>\n",
       "      <td>6.432407</td>\n",
       "      <td>0.001775</td>\n",
       "      <td>0.002472</td>\n",
       "    </tr>\n",
       "    <tr>\n",
       "      <th>4</th>\n",
       "      <td>3.208333</td>\n",
       "      <td>23.502431</td>\n",
       "      <td>0.004481</td>\n",
       "      <td>0.009031</td>\n",
       "    </tr>\n",
       "    <tr>\n",
       "      <th>5</th>\n",
       "      <td>15.500000</td>\n",
       "      <td>80.557986</td>\n",
       "      <td>0.021649</td>\n",
       "      <td>0.030956</td>\n",
       "    </tr>\n",
       "    <tr>\n",
       "      <th>6</th>\n",
       "      <td>11.000000</td>\n",
       "      <td>58.583333</td>\n",
       "      <td>0.015364</td>\n",
       "      <td>0.022512</td>\n",
       "    </tr>\n",
       "    <tr>\n",
       "      <th>7</th>\n",
       "      <td>57.000000</td>\n",
       "      <td>224.815162</td>\n",
       "      <td>0.079611</td>\n",
       "      <td>0.086390</td>\n",
       "    </tr>\n",
       "    <tr>\n",
       "      <th>8</th>\n",
       "      <td>157.000000</td>\n",
       "      <td>453.761111</td>\n",
       "      <td>0.219280</td>\n",
       "      <td>0.174367</td>\n",
       "    </tr>\n",
       "    <tr>\n",
       "      <th>9</th>\n",
       "      <td>213.000000</td>\n",
       "      <td>850.764583</td>\n",
       "      <td>0.297495</td>\n",
       "      <td>0.326924</td>\n",
       "    </tr>\n",
       "    <tr>\n",
       "      <th>10</th>\n",
       "      <td>258.000000</td>\n",
       "      <td>902.783681</td>\n",
       "      <td>0.360346</td>\n",
       "      <td>0.346913</td>\n",
       "    </tr>\n",
       "  </tbody>\n",
       "</table>\n",
       "</div>"
      ],
      "text/plain": [
       "    research_time  build_time  percent_research_time  percent_build_time\n",
       "1        0.000000    0.120370               0.000000            0.000046\n",
       "2        0.000000    1.012847               0.000000            0.000389\n",
       "3        1.270833    6.432407               0.001775            0.002472\n",
       "4        3.208333   23.502431               0.004481            0.009031\n",
       "5       15.500000   80.557986               0.021649            0.030956\n",
       "6       11.000000   58.583333               0.015364            0.022512\n",
       "7       57.000000  224.815162               0.079611            0.086390\n",
       "8      157.000000  453.761111               0.219280            0.174367\n",
       "9      213.000000  850.764583               0.297495            0.326924\n",
       "10     258.000000  902.783681               0.360346            0.346913"
      ]
     },
     "execution_count": 16,
     "metadata": {},
     "output_type": "execute_result"
    }
   ],
   "source": [
    "times[\"percent_research_time\"] = times[\"research_time\"].map(\n",
    "    lambda x: x / times[\"research_time\"].sum())\n",
    "times[\"percent_build_time\"] = times[\"build_time\"].map(\n",
    "    lambda x: x / times[\"build_time\"].sum())\n",
    "times = times.fillna(0)\n",
    "times"
   ]
  },
  {
   "cell_type": "markdown",
   "metadata": {},
   "source": [
    "# Results"
   ]
  }
 ],
 "metadata": {
  "kernelspec": {
   "display_name": "Python 3",
   "language": "python",
   "name": "python3"
  },
  "language_info": {
   "codemirror_mode": {
    "name": "ipython",
    "version": 3
   },
   "file_extension": ".py",
   "mimetype": "text/x-python",
   "name": "python",
   "nbconvert_exporter": "python",
   "pygments_lexer": "ipython3",
   "version": "3.4.3"
  }
 },
 "nbformat": 4,
 "nbformat_minor": 0
}
