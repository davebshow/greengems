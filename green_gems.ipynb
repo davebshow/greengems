{
 "cells": [
  {
   "cell_type": "markdown",
   "metadata": {},
   "source": [
    "# Clash of Clans: How many builders do you *really* need?\n",
    "\n",
    "### (or, should I spend those green gems?)"
   ]
  },
  {
   "cell_type": "markdown",
   "metadata": {},
   "source": []
  },
  {
   "cell_type": "markdown",
   "metadata": {},
   "source": [
    "This next section contains a bit of Python used to prepare the dataset for visualization and analysis. If you aren't interested, just skip down to the results section"
   ]
  },
  {
   "cell_type": "code",
   "execution_count": 1,
   "metadata": {
    "collapsed": false
   },
   "outputs": [],
   "source": [
    "%matplotlib inline\n",
    "import numpy as np\n",
    "import pandas as pd"
   ]
  },
  {
   "cell_type": "code",
   "execution_count": 72,
   "metadata": {
    "collapsed": false
   },
   "outputs": [],
   "source": [
    "building_df = pd.read_csv(\"building_upgrade_data.csv\")\n",
    "building_df = building_df[building_df[\"town_hall\"] != 11]\n",
    "research_df = pd.read_csv(\"research_data.csv\")\n",
    "research_df = research_df[research_df[\"town_hall\"] != 11]"
   ]
  },
  {
   "cell_type": "code",
   "execution_count": 73,
   "metadata": {
    "collapsed": true
   },
   "outputs": [],
   "source": [
    "# CONSTANTS\n",
    "HOURS_PER_DAY = 24.0\n",
    "MIN_PER_DAY = HOURS_PER_DAY * 60\n",
    "SEC_PER_DAY = MIN_PER_DAY * 60\n",
    "UNIT_MAP = {\"seconds\": SEC_PER_DAY, \"minutes\": MIN_PER_DAY,\n",
    "            \"hours\": HOURS_PER_DAY, \"days\": 1.0}"
   ]
  },
  {
   "cell_type": "code",
   "execution_count": 74,
   "metadata": {
    "collapsed": false
   },
   "outputs": [],
   "source": [
    "# These functions parse the possible time strings\n",
    "from functools import reduce\n",
    "\n",
    "def parse_time(t):\n",
    "    return int(t[0]) / UNIT_MAP[t[1]]\n",
    "\n",
    "def chunks(l, n):\n",
    "    for i in range(0, len(l), n):\n",
    "        yield l[i:i + n]\n",
    "\n",
    "def parse_time_string(s):\n",
    "    return reduce(lambda x, y: x + y, map(parse_time, chunks(s.split(' '), 2)))"
   ]
  },
  {
   "cell_type": "code",
   "execution_count": 75,
   "metadata": {
    "collapsed": false
   },
   "outputs": [],
   "source": [
    "building_df[\"build_days\"] = building_df[\"build_time\"].map(parse_time_string)\n",
    "research_df[\"research_days\"] = research_df[\"research_time\"].map(parse_time_string)"
   ]
  },
  {
   "cell_type": "code",
   "execution_count": 76,
   "metadata": {
    "collapsed": false
   },
   "outputs": [],
   "source": [
    "def get_build_time(df):\n",
    "    \"\"\"This calculates total build time per town hall level\"\"\"\n",
    "    build_time = {}\n",
    "    grouped = df.groupby([\"type\"])\n",
    "    for name, group in grouped:\n",
    "        regrouped = group.groupby(\"town_hall\")\n",
    "        prev_quant = group.iloc[0][\"quantity\"]\n",
    "        for rname, rgroup in regrouped:\n",
    "            quant = rgroup[\"quantity\"].iloc[0]\n",
    "            build_days = quant * rgroup[\"build_days\"].sum()\n",
    "            build_time.setdefault(rname, 0)\n",
    "            build_time[rname] += build_days\n",
    "            # This adds time to each town hall level based on new structure acquisition\n",
    "            if quant > prev_quant:\n",
    "                diff = quant - prev_quant\n",
    "                catch_up_days = diff * group[group[\"town_hall\"] < rname][\"build_days\"].sum()\n",
    "                build_time[rname] += catch_up_days\n",
    "                prev_quant = quant\n",
    "    return pd.Series(build_time)"
   ]
  },
  {
   "cell_type": "code",
   "execution_count": 77,
   "metadata": {
    "collapsed": false
   },
   "outputs": [],
   "source": [
    "build_times = get_build_time(building_df)"
   ]
  },
  {
   "cell_type": "code",
   "execution_count": 78,
   "metadata": {
    "collapsed": false
   },
   "outputs": [],
   "source": [
    "# Get research times by town hall, don't forget to add lab upgrade time\n",
    "lab_build_days = building_df.groupby(\"type\").get_group(\"laboratory\")[[\"town_hall\",\"build_days\"]]\n",
    "research_times = research_df.groupby(\"town_hall\")[\"research_days\"].sum()\n",
    "lab_build_days[\"total_time\"] = lab_build_days[\"build_days\"] + research_times.values\n",
    "research_times = lab_build_days.set_index(\"town_hall\")[\"total_time\"]\n",
    "times = pd.concat([research_times, build_times], axis=1)\n",
    "times.columns = [\"research_times\", \"build_times\"]"
   ]
  },
  {
   "cell_type": "code",
   "execution_count": 79,
   "metadata": {
    "collapsed": false
   },
   "outputs": [
    {
     "data": {
      "text/html": [
       "<div>\n",
       "<table border=\"1\" class=\"dataframe\">\n",
       "  <thead>\n",
       "    <tr style=\"text-align: right;\">\n",
       "      <th></th>\n",
       "      <th>research_times</th>\n",
       "      <th>build_times</th>\n",
       "    </tr>\n",
       "  </thead>\n",
       "  <tbody>\n",
       "    <tr>\n",
       "      <th>1</th>\n",
       "      <td>NaN</td>\n",
       "      <td>0.120370</td>\n",
       "    </tr>\n",
       "    <tr>\n",
       "      <th>2</th>\n",
       "      <td>NaN</td>\n",
       "      <td>1.012847</td>\n",
       "    </tr>\n",
       "    <tr>\n",
       "      <th>3</th>\n",
       "      <td>1.270833</td>\n",
       "      <td>6.432407</td>\n",
       "    </tr>\n",
       "    <tr>\n",
       "      <th>4</th>\n",
       "      <td>3.208333</td>\n",
       "      <td>23.502431</td>\n",
       "    </tr>\n",
       "    <tr>\n",
       "      <th>5</th>\n",
       "      <td>15.500000</td>\n",
       "      <td>80.557986</td>\n",
       "    </tr>\n",
       "    <tr>\n",
       "      <th>6</th>\n",
       "      <td>11.000000</td>\n",
       "      <td>58.583333</td>\n",
       "    </tr>\n",
       "    <tr>\n",
       "      <th>7</th>\n",
       "      <td>57.000000</td>\n",
       "      <td>224.815162</td>\n",
       "    </tr>\n",
       "    <tr>\n",
       "      <th>8</th>\n",
       "      <td>157.000000</td>\n",
       "      <td>453.761111</td>\n",
       "    </tr>\n",
       "    <tr>\n",
       "      <th>9</th>\n",
       "      <td>213.000000</td>\n",
       "      <td>850.764583</td>\n",
       "    </tr>\n",
       "    <tr>\n",
       "      <th>10</th>\n",
       "      <td>258.000000</td>\n",
       "      <td>902.783681</td>\n",
       "    </tr>\n",
       "  </tbody>\n",
       "</table>\n",
       "</div>"
      ],
      "text/plain": [
       "    research_times  build_times\n",
       "1              NaN     0.120370\n",
       "2              NaN     1.012847\n",
       "3         1.270833     6.432407\n",
       "4         3.208333    23.502431\n",
       "5        15.500000    80.557986\n",
       "6        11.000000    58.583333\n",
       "7        57.000000   224.815162\n",
       "8       157.000000   453.761111\n",
       "9       213.000000   850.764583\n",
       "10      258.000000   902.783681"
      ]
     },
     "execution_count": 79,
     "metadata": {},
     "output_type": "execute_result"
    }
   ],
   "source": [
    "times"
   ]
  },
  {
   "cell_type": "code",
   "execution_count": null,
   "metadata": {
    "collapsed": true
   },
   "outputs": [],
   "source": []
  }
 ],
 "metadata": {
  "kernelspec": {
   "display_name": "Python 3",
   "language": "python",
   "name": "python3"
  },
  "language_info": {
   "codemirror_mode": {
    "name": "ipython",
    "version": 3
   },
   "file_extension": ".py",
   "mimetype": "text/x-python",
   "name": "python",
   "nbconvert_exporter": "python",
   "pygments_lexer": "ipython3",
   "version": "3.4.3"
  }
 },
 "nbformat": 4,
 "nbformat_minor": 0
}
